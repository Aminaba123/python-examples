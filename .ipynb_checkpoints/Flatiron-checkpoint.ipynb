{
 "cells": [
  {
   "cell_type": "code",
   "execution_count": 1,
   "metadata": {
    "collapsed": true
   },
   "outputs": [],
   "source": [
    "import pandas as pd\n",
    "import matplotlib.pyplot as plt\n",
    "import numpy as np"
   ]
  },
  {
   "cell_type": "code",
   "execution_count": 2,
   "metadata": {
    "collapsed": true
   },
   "outputs": [],
   "source": [
    "### Load dataset\n",
    "diagnosis = pd.DataFrame.from_csv(\"/Users/williamliu/Downloads/Patient_Diagnosis.csv\")\n",
    "treatment = pd.DataFrame.from_csv(\"/Users/williamliu/Downloads/Patient_Treatment.csv\")"
   ]
  },
  {
   "cell_type": "code",
   "execution_count": 3,
   "metadata": {
    "collapsed": false
   },
   "outputs": [
    {
     "name": "stdout",
     "output_type": "stream",
     "text": [
      "<class 'pandas.core.frame.DataFrame'>\n",
      "Int64Index: 38 entries, 2038 to 9489\n",
      "Data columns (total 3 columns):\n",
      "Diagnosis_Date    38 non-null object\n",
      "Diagnosis_Code    38 non-null float64\n",
      "Diagnosis         38 non-null object\n",
      "dtypes: float64(1), object(2)"
     ]
    }
   ],
   "source": [
    "### Look at diagnosis dataset\n",
    "diagnosis.head()\n",
    "diagnosis.info()\n",
    "diagnosis.describe()\n",
    "diagnosis[\"Diagnosis_Date\"] = pd.to_datetime(diagnosis[\"Diagnosis_Date\"])  # Convert to time"
   ]
  },
  {
   "cell_type": "code",
   "execution_count": 4,
   "metadata": {
    "collapsed": false
   },
   "outputs": [
    {
     "data": {
      "text/html": [
       "<div style=\"max-height:1000px;max-width:1500px;overflow:auto;\">\n",
       "<table border=\"1\" class=\"dataframe\">\n",
       "  <thead>\n",
       "    <tr style=\"text-align: right;\">\n",
       "      <th></th>\n",
       "      <th>Diagnosis_Date</th>\n",
       "      <th>Diagnosis_Code</th>\n",
       "      <th>Diagnosis</th>\n",
       "    </tr>\n",
       "    <tr>\n",
       "      <th>Patient_ID</th>\n",
       "      <th></th>\n",
       "      <th></th>\n",
       "      <th></th>\n",
       "    </tr>\n",
       "  </thead>\n",
       "  <tbody>\n",
       "    <tr>\n",
       "      <th>2038</th>\n",
       "      <td>2010-01-21</td>\n",
       "      <td> 174.9</td>\n",
       "      <td> Breast Cancer</td>\n",
       "    </tr>\n",
       "    <tr>\n",
       "      <th>2120</th>\n",
       "      <td>2010-01-09</td>\n",
       "      <td> 174.1</td>\n",
       "      <td> Breast Cancer</td>\n",
       "    </tr>\n",
       "    <tr>\n",
       "      <th>2175</th>\n",
       "      <td>2010-02-17</td>\n",
       "      <td> 174.7</td>\n",
       "      <td> Breast Cancer</td>\n",
       "    </tr>\n",
       "    <tr>\n",
       "      <th>2407</th>\n",
       "      <td>2010-06-13</td>\n",
       "      <td> 174.9</td>\n",
       "      <td> Breast Cancer</td>\n",
       "    </tr>\n",
       "    <tr>\n",
       "      <th>2425</th>\n",
       "      <td>2010-12-15</td>\n",
       "      <td> 174.9</td>\n",
       "      <td> Breast Cancer</td>\n",
       "    </tr>\n",
       "  </tbody>\n",
       "</table>\n",
       "</div>"
      ],
      "text/plain": [
       "           Diagnosis_Date  Diagnosis_Code      Diagnosis\n",
       "Patient_ID                                              \n",
       "2038           2010-01-21           174.9  Breast Cancer\n",
       "2120           2010-01-09           174.1  Breast Cancer\n",
       "2175           2010-02-17           174.7  Breast Cancer\n",
       "2407           2010-06-13           174.9  Breast Cancer\n",
       "2425           2010-12-15           174.9  Breast Cancer"
      ]
     },
     "execution_count": 4,
     "metadata": {},
     "output_type": "execute_result"
    }
   ],
   "source": [
    "diagnosis.head()"
   ]
  },
  {
   "cell_type": "code",
   "execution_count": 5,
   "metadata": {
    "collapsed": false
   },
   "outputs": [
    {
     "name": "stdout",
     "output_type": "stream",
     "text": [
      "<class 'pandas.core.frame.DataFrame'>\n",
      "Int64Index: 189 entries, 2038 to 9489\n",
      "Data columns (total 2 columns):\n",
      "Treatment_Date    189 non-null object\n",
      "Drug_Code         189 non-null int64\n",
      "dtypes: int64(1), object(1)"
     ]
    }
   ],
   "source": [
    "### Look at treatment dataset\n",
    "treatment.head()\n",
    "treatment.info()\n",
    "treatment.describe()\n",
    "treatment[\"Treatment_Date\"] = pd.to_datetime(treatment[\"Treatment_Date\"])  # Convert to time"
   ]
  },
  {
   "cell_type": "code",
   "execution_count": 6,
   "metadata": {
    "collapsed": false
   },
   "outputs": [
    {
     "data": {
      "text/html": [
       "<div style=\"max-height:1000px;max-width:1500px;overflow:auto;\">\n",
       "<table border=\"1\" class=\"dataframe\">\n",
       "  <thead>\n",
       "    <tr style=\"text-align: right;\">\n",
       "      <th></th>\n",
       "      <th>Treatment_Date</th>\n",
       "      <th>Drug_Code</th>\n",
       "    </tr>\n",
       "    <tr>\n",
       "      <th>Patient_ID</th>\n",
       "      <th></th>\n",
       "      <th></th>\n",
       "    </tr>\n",
       "  </thead>\n",
       "  <tbody>\n",
       "    <tr>\n",
       "      <th>2038</th>\n",
       "      <td>2010-02-14</td>\n",
       "      <td> 201</td>\n",
       "    </tr>\n",
       "    <tr>\n",
       "      <th>2038</th>\n",
       "      <td>2010-02-21</td>\n",
       "      <td> 201</td>\n",
       "    </tr>\n",
       "    <tr>\n",
       "      <th>2038</th>\n",
       "      <td>2010-02-28</td>\n",
       "      <td> 201</td>\n",
       "    </tr>\n",
       "    <tr>\n",
       "      <th>2038</th>\n",
       "      <td>2010-03-07</td>\n",
       "      <td> 201</td>\n",
       "    </tr>\n",
       "    <tr>\n",
       "      <th>2038</th>\n",
       "      <td>2010-03-14</td>\n",
       "      <td> 201</td>\n",
       "    </tr>\n",
       "  </tbody>\n",
       "</table>\n",
       "</div>"
      ],
      "text/plain": [
       "           Treatment_Date  Drug_Code\n",
       "Patient_ID                          \n",
       "2038           2010-02-14        201\n",
       "2038           2010-02-21        201\n",
       "2038           2010-02-28        201\n",
       "2038           2010-03-07        201\n",
       "2038           2010-03-14        201"
      ]
     },
     "execution_count": 6,
     "metadata": {},
     "output_type": "execute_result"
    }
   ],
   "source": [
    "treatment.head()"
   ]
  },
  {
   "cell_type": "code",
   "execution_count": 7,
   "metadata": {
    "collapsed": false
   },
   "outputs": [],
   "source": [
    "# Merge datasets\n",
    "merged = pd.merge(diagnosis, treatment, \n",
    "                  left_on=diagnosis.index, \n",
    "                  right_on=treatment.index, \n",
    "                  how=\"outer\")"
   ]
  },
  {
   "cell_type": "code",
   "execution_count": 8,
   "metadata": {
    "collapsed": false
   },
   "outputs": [
    {
     "data": {
      "text/html": [
       "<div style=\"max-height:1000px;max-width:1500px;overflow:auto;\">\n",
       "<table border=\"1\" class=\"dataframe\">\n",
       "  <thead>\n",
       "    <tr style=\"text-align: right;\">\n",
       "      <th></th>\n",
       "      <th>key_0</th>\n",
       "      <th>Diagnosis_Date</th>\n",
       "      <th>Diagnosis_Code</th>\n",
       "      <th>Diagnosis</th>\n",
       "      <th>Treatment_Date</th>\n",
       "      <th>Drug_Code</th>\n",
       "    </tr>\n",
       "  </thead>\n",
       "  <tbody>\n",
       "    <tr>\n",
       "      <th>0</th>\n",
       "      <td> 2038</td>\n",
       "      <td>2010-01-21</td>\n",
       "      <td> 174.9</td>\n",
       "      <td> Breast Cancer</td>\n",
       "      <td>2010-02-14</td>\n",
       "      <td> 201</td>\n",
       "    </tr>\n",
       "    <tr>\n",
       "      <th>1</th>\n",
       "      <td> 2038</td>\n",
       "      <td>2010-01-21</td>\n",
       "      <td> 174.9</td>\n",
       "      <td> Breast Cancer</td>\n",
       "      <td>2010-02-21</td>\n",
       "      <td> 201</td>\n",
       "    </tr>\n",
       "    <tr>\n",
       "      <th>2</th>\n",
       "      <td> 2038</td>\n",
       "      <td>2010-01-21</td>\n",
       "      <td> 174.9</td>\n",
       "      <td> Breast Cancer</td>\n",
       "      <td>2010-02-28</td>\n",
       "      <td> 201</td>\n",
       "    </tr>\n",
       "    <tr>\n",
       "      <th>3</th>\n",
       "      <td> 2038</td>\n",
       "      <td>2010-01-21</td>\n",
       "      <td> 174.9</td>\n",
       "      <td> Breast Cancer</td>\n",
       "      <td>2010-03-07</td>\n",
       "      <td> 201</td>\n",
       "    </tr>\n",
       "    <tr>\n",
       "      <th>4</th>\n",
       "      <td> 2038</td>\n",
       "      <td>2010-01-21</td>\n",
       "      <td> 174.9</td>\n",
       "      <td> Breast Cancer</td>\n",
       "      <td>2010-03-14</td>\n",
       "      <td> 201</td>\n",
       "    </tr>\n",
       "  </tbody>\n",
       "</table>\n",
       "</div>"
      ],
      "text/plain": [
       "   key_0 Diagnosis_Date  Diagnosis_Code      Diagnosis Treatment_Date  \\\n",
       "0   2038     2010-01-21           174.9  Breast Cancer     2010-02-14   \n",
       "1   2038     2010-01-21           174.9  Breast Cancer     2010-02-21   \n",
       "2   2038     2010-01-21           174.9  Breast Cancer     2010-02-28   \n",
       "3   2038     2010-01-21           174.9  Breast Cancer     2010-03-07   \n",
       "4   2038     2010-01-21           174.9  Breast Cancer     2010-03-14   \n",
       "\n",
       "   Drug_Code  \n",
       "0        201  \n",
       "1        201  \n",
       "2        201  \n",
       "3        201  \n",
       "4        201  "
      ]
     },
     "execution_count": 8,
     "metadata": {},
     "output_type": "execute_result"
    }
   ],
   "source": [
    "merged.head()  # This is the main dataset we'll be working with"
   ]
  },
  {
   "cell_type": "code",
   "execution_count": 9,
   "metadata": {
    "collapsed": false
   },
   "outputs": [
    {
     "name": "stdout",
     "output_type": "stream",
     "text": [
      "<class 'pandas.core.frame.DataFrame'>\n",
      "Int64Index: 200 entries, 0 to 199\n",
      "Data columns (total 6 columns):\n",
      "key_0             200 non-null int64\n",
      "Diagnosis_Date    200 non-null datetime64[ns]\n",
      "Diagnosis_Code    200 non-null float64\n",
      "Diagnosis         200 non-null object\n",
      "Treatment_Date    190 non-null datetime64[ns]\n",
      "Drug_Code         190 non-null float64\n",
      "dtypes: datetime64[ns](2), float64(2), int64(1), object(1)"
     ]
    }
   ],
   "source": [
    "merged.info()\n",
    "# Note to self: Some data is missing (e.g. no treatment data for 10)"
   ]
  },
  {
   "cell_type": "markdown",
   "metadata": {},
   "source": [
    "__Question 1__: How many patients does the clinic have for each cancer diagnosis?"
   ]
  },
  {
   "cell_type": "code",
   "execution_count": 10,
   "metadata": {
    "collapsed": false
   },
   "outputs": [],
   "source": [
    "unique_patients = pd.Series(merged.key_0.values).unique()"
   ]
  },
  {
   "cell_type": "code",
   "execution_count": 14,
   "metadata": {
    "collapsed": false
   },
   "outputs": [
    {
     "name": "stdout",
     "output_type": "stream",
     "text": [
      "[2038 2120 2175 2407 2425 2462 2634 2735 2763 2770 3095 3449 3757 3948 4256\n",
      " 4354 4374 4692 5259 5657 6281 6321 6837 6840 6877 6889 6922 7230 7242 7796\n",
      " 7937 7976 8480 8615 8827 9331 9489]\n",
      "37\n"
     ]
    }
   ],
   "source": [
    "print unique_patients  # IDs of Patients\n",
    "print len(unique_patients)  # Number of unique patients"
   ]
  },
  {
   "cell_type": "code",
   "execution_count": 15,
   "metadata": {
    "collapsed": true
   },
   "outputs": [],
   "source": [
    "# Doing split-apply-combine technique\n",
    "diagnosis_group = merged.groupby([\"Diagnosis\"])[\"key_0\"].apply(lambda x: len(x.unique()))"
   ]
  },
  {
   "cell_type": "code",
   "execution_count": 16,
   "metadata": {
    "collapsed": false
   },
   "outputs": [
    {
     "name": "stdout",
     "output_type": "stream",
     "text": [
      "Diagnosis\n",
      "Breast Cancer    26\n",
      "Colon Cancer     12\n",
      "Name: key_0, dtype: int64\n"
     ]
    }
   ],
   "source": [
    "print diagnosis_group  # 26 Breast Cancer, 12 Colon Cancer"
   ]
  },
  {
   "cell_type": "markdown",
   "metadata": {},
   "source": [
    "__Answer 1__: There are 12 unique patients in the 'Colon Cancer' group and 26 unique patients in the 'Breast Cancer' group "
   ]
  },
  {
   "cell_type": "markdown",
   "metadata": {},
   "source": [
    "__Question 2__: How long after being diagnosed does it take for a patient to start treatment?  Do any patients start treatment before being diagnosed?"
   ]
  },
  {
   "cell_type": "code",
   "execution_count": 17,
   "metadata": {
    "collapsed": false
   },
   "outputs": [],
   "source": [
    "merged[\"Date_Diff\"] = merged[\"Diagnosis_Date\"] - merged[\"Treatment_Date\"]"
   ]
  },
  {
   "cell_type": "code",
   "execution_count": 18,
   "metadata": {
    "collapsed": false
   },
   "outputs": [
    {
     "data": {
      "text/html": [
       "<div style=\"max-height:1000px;max-width:1500px;overflow:auto;\">\n",
       "<table border=\"1\" class=\"dataframe\">\n",
       "  <thead>\n",
       "    <tr style=\"text-align: right;\">\n",
       "      <th></th>\n",
       "      <th>key_0</th>\n",
       "      <th>Diagnosis_Date</th>\n",
       "      <th>Diagnosis_Code</th>\n",
       "      <th>Diagnosis</th>\n",
       "      <th>Treatment_Date</th>\n",
       "      <th>Drug_Code</th>\n",
       "      <th>Date_Diff</th>\n",
       "    </tr>\n",
       "  </thead>\n",
       "  <tbody>\n",
       "    <tr>\n",
       "      <th>0</th>\n",
       "      <td> 2038</td>\n",
       "      <td>2010-01-21</td>\n",
       "      <td> 174.9</td>\n",
       "      <td> Breast Cancer</td>\n",
       "      <td>2010-02-14</td>\n",
       "      <td> 201</td>\n",
       "      <td>-24 days</td>\n",
       "    </tr>\n",
       "    <tr>\n",
       "      <th>1</th>\n",
       "      <td> 2038</td>\n",
       "      <td>2010-01-21</td>\n",
       "      <td> 174.9</td>\n",
       "      <td> Breast Cancer</td>\n",
       "      <td>2010-02-21</td>\n",
       "      <td> 201</td>\n",
       "      <td>-31 days</td>\n",
       "    </tr>\n",
       "    <tr>\n",
       "      <th>2</th>\n",
       "      <td> 2038</td>\n",
       "      <td>2010-01-21</td>\n",
       "      <td> 174.9</td>\n",
       "      <td> Breast Cancer</td>\n",
       "      <td>2010-02-28</td>\n",
       "      <td> 201</td>\n",
       "      <td>-38 days</td>\n",
       "    </tr>\n",
       "    <tr>\n",
       "      <th>3</th>\n",
       "      <td> 2038</td>\n",
       "      <td>2010-01-21</td>\n",
       "      <td> 174.9</td>\n",
       "      <td> Breast Cancer</td>\n",
       "      <td>2010-03-07</td>\n",
       "      <td> 201</td>\n",
       "      <td>-45 days</td>\n",
       "    </tr>\n",
       "    <tr>\n",
       "      <th>4</th>\n",
       "      <td> 2038</td>\n",
       "      <td>2010-01-21</td>\n",
       "      <td> 174.9</td>\n",
       "      <td> Breast Cancer</td>\n",
       "      <td>2010-03-14</td>\n",
       "      <td> 201</td>\n",
       "      <td>-52 days</td>\n",
       "    </tr>\n",
       "  </tbody>\n",
       "</table>\n",
       "</div>"
      ],
      "text/plain": [
       "   key_0 Diagnosis_Date  Diagnosis_Code      Diagnosis Treatment_Date  \\\n",
       "0   2038     2010-01-21           174.9  Breast Cancer     2010-02-14   \n",
       "1   2038     2010-01-21           174.9  Breast Cancer     2010-02-21   \n",
       "2   2038     2010-01-21           174.9  Breast Cancer     2010-02-28   \n",
       "3   2038     2010-01-21           174.9  Breast Cancer     2010-03-07   \n",
       "4   2038     2010-01-21           174.9  Breast Cancer     2010-03-14   \n",
       "\n",
       "   Drug_Code  Date_Diff  \n",
       "0        201   -24 days  \n",
       "1        201   -31 days  \n",
       "2        201   -38 days  \n",
       "3        201   -45 days  \n",
       "4        201   -52 days  "
      ]
     },
     "execution_count": 18,
     "metadata": {},
     "output_type": "execute_result"
    }
   ],
   "source": [
    "merged.head()"
   ]
  },
  {
   "cell_type": "code",
   "execution_count": 19,
   "metadata": {
    "collapsed": false
   },
   "outputs": [
    {
     "data": {
      "text/plain": [
       "0     -24 days\n",
       "1     -31 days\n",
       "2     -38 days\n",
       "3     -45 days\n",
       "4     -52 days\n",
       "5     -59 days\n",
       "6     -66 days\n",
       "7     -73 days\n",
       "8     -80 days\n",
       "9     -87 days\n",
       "10    -94 days\n",
       "11   -101 days\n",
       "12   -108 days\n",
       "13   -115 days\n",
       "14    -42 days\n",
       "...\n",
       "185    -16 days\n",
       "186    -23 days\n",
       "187         NaT\n",
       "188    -34 days\n",
       "189    -41 days\n",
       "190    -48 days\n",
       "191    -55 days\n",
       "192    -62 days\n",
       "193    -69 days\n",
       "194    -76 days\n",
       "195    -83 days\n",
       "196    -90 days\n",
       "197    -97 days\n",
       "198   -104 days\n",
       "199   -111 days\n",
       "Name: Date_Diff, Length: 200, dtype: timedelta64[ns]"
      ]
     },
     "execution_count": 19,
     "metadata": {},
     "output_type": "execute_result"
    }
   ],
   "source": [
    "merged.Date_Diff"
   ]
  },
  {
   "cell_type": "code",
   "execution_count": 21,
   "metadata": {
    "collapsed": false
   },
   "outputs": [
    {
     "data": {
      "text/plain": [
       "0   47 days\n",
       "dtype: timedelta64[ns]"
      ]
     },
     "execution_count": 21,
     "metadata": {},
     "output_type": "execute_result"
    }
   ],
   "source": [
    "merged.Date_Diff.max()"
   ]
  },
  {
   "cell_type": "code",
   "execution_count": 22,
   "metadata": {
    "collapsed": false
   },
   "outputs": [
    {
     "data": {
      "text/plain": [
       "0   -149 days\n",
       "dtype: timedelta64[ns]"
      ]
     },
     "execution_count": 22,
     "metadata": {},
     "output_type": "execute_result"
    }
   ],
   "source": [
    "merged.Date_Diff.min()"
   ]
  },
  {
   "cell_type": "code",
   "execution_count": 24,
   "metadata": {
    "collapsed": false
   },
   "outputs": [
    {
     "data": {
      "text/plain": [
       "0   -59 days, 04:17:41.052632\n",
       "dtype: timedelta64[ns]"
      ]
     },
     "execution_count": 24,
     "metadata": {},
     "output_type": "execute_result"
    }
   ],
   "source": [
    "merged.Date_Diff.mean()"
   ]
  },
  {
   "cell_type": "markdown",
   "metadata": {
    "collapsed": true
   },
   "source": [
    "__Answer__: Treatments range from starting 47 days in advance up to 149 later (mean of 59 days later) "
   ]
  },
  {
   "cell_type": "code",
   "execution_count": 25,
   "metadata": {
    "collapsed": false
   },
   "outputs": [
    {
     "data": {
      "text/html": [
       "<div style=\"max-height:1000px;max-width:1500px;overflow:auto;\">\n",
       "<table border=\"1\" class=\"dataframe\">\n",
       "  <thead>\n",
       "    <tr style=\"text-align: right;\">\n",
       "      <th></th>\n",
       "      <th>key_0</th>\n",
       "      <th>Diagnosis_Date</th>\n",
       "      <th>Diagnosis_Code</th>\n",
       "      <th>Diagnosis</th>\n",
       "      <th>Treatment_Date</th>\n",
       "      <th>Drug_Code</th>\n",
       "      <th>Date_Diff</th>\n",
       "    </tr>\n",
       "  </thead>\n",
       "  <tbody>\n",
       "    <tr>\n",
       "      <th>93 </th>\n",
       "      <td> 4374</td>\n",
       "      <td>2012-02-20</td>\n",
       "      <td> 174.5</td>\n",
       "      <td> Breast Cancer</td>\n",
       "      <td>2012-01-04</td>\n",
       "      <td> 201</td>\n",
       "      <td>47 days</td>\n",
       "    </tr>\n",
       "    <tr>\n",
       "      <th>94 </th>\n",
       "      <td> 4374</td>\n",
       "      <td>2012-02-20</td>\n",
       "      <td> 174.5</td>\n",
       "      <td> Breast Cancer</td>\n",
       "      <td>2012-01-11</td>\n",
       "      <td> 201</td>\n",
       "      <td>40 days</td>\n",
       "    </tr>\n",
       "    <tr>\n",
       "      <th>95 </th>\n",
       "      <td> 4374</td>\n",
       "      <td>2012-02-20</td>\n",
       "      <td> 174.5</td>\n",
       "      <td> Breast Cancer</td>\n",
       "      <td>2012-01-18</td>\n",
       "      <td> 201</td>\n",
       "      <td>33 days</td>\n",
       "    </tr>\n",
       "    <tr>\n",
       "      <th>96 </th>\n",
       "      <td> 4374</td>\n",
       "      <td>2012-02-20</td>\n",
       "      <td> 174.5</td>\n",
       "      <td> Breast Cancer</td>\n",
       "      <td>2012-01-25</td>\n",
       "      <td> 201</td>\n",
       "      <td>26 days</td>\n",
       "    </tr>\n",
       "    <tr>\n",
       "      <th>97 </th>\n",
       "      <td> 4374</td>\n",
       "      <td>2012-02-20</td>\n",
       "      <td> 174.5</td>\n",
       "      <td> Breast Cancer</td>\n",
       "      <td>2012-02-01</td>\n",
       "      <td> 201</td>\n",
       "      <td>19 days</td>\n",
       "    </tr>\n",
       "    <tr>\n",
       "      <th>98 </th>\n",
       "      <td> 4374</td>\n",
       "      <td>2012-02-20</td>\n",
       "      <td> 174.5</td>\n",
       "      <td> Breast Cancer</td>\n",
       "      <td>2012-02-08</td>\n",
       "      <td> 201</td>\n",
       "      <td>12 days</td>\n",
       "    </tr>\n",
       "    <tr>\n",
       "      <th>99 </th>\n",
       "      <td> 4374</td>\n",
       "      <td>2012-02-20</td>\n",
       "      <td> 174.5</td>\n",
       "      <td> Breast Cancer</td>\n",
       "      <td>2012-02-15</td>\n",
       "      <td> 201</td>\n",
       "      <td> 5 days</td>\n",
       "    </tr>\n",
       "    <tr>\n",
       "      <th>140</th>\n",
       "      <td> 6877</td>\n",
       "      <td>2012-11-26</td>\n",
       "      <td> 153.4</td>\n",
       "      <td>  Colon Cancer</td>\n",
       "      <td>2012-11-05</td>\n",
       "      <td> 201</td>\n",
       "      <td>21 days</td>\n",
       "    </tr>\n",
       "    <tr>\n",
       "      <th>141</th>\n",
       "      <td> 6877</td>\n",
       "      <td>2012-11-26</td>\n",
       "      <td> 153.4</td>\n",
       "      <td>  Colon Cancer</td>\n",
       "      <td>2012-11-12</td>\n",
       "      <td> 201</td>\n",
       "      <td>14 days</td>\n",
       "    </tr>\n",
       "    <tr>\n",
       "      <th>142</th>\n",
       "      <td> 6877</td>\n",
       "      <td>2012-11-26</td>\n",
       "      <td> 153.4</td>\n",
       "      <td>  Colon Cancer</td>\n",
       "      <td>2012-11-19</td>\n",
       "      <td> 201</td>\n",
       "      <td> 7 days</td>\n",
       "    </tr>\n",
       "  </tbody>\n",
       "</table>\n",
       "</div>"
      ],
      "text/plain": [
       "     key_0 Diagnosis_Date  Diagnosis_Code      Diagnosis Treatment_Date  \\\n",
       "93    4374     2012-02-20           174.5  Breast Cancer     2012-01-04   \n",
       "94    4374     2012-02-20           174.5  Breast Cancer     2012-01-11   \n",
       "95    4374     2012-02-20           174.5  Breast Cancer     2012-01-18   \n",
       "96    4374     2012-02-20           174.5  Breast Cancer     2012-01-25   \n",
       "97    4374     2012-02-20           174.5  Breast Cancer     2012-02-01   \n",
       "98    4374     2012-02-20           174.5  Breast Cancer     2012-02-08   \n",
       "99    4374     2012-02-20           174.5  Breast Cancer     2012-02-15   \n",
       "140   6877     2012-11-26           153.4   Colon Cancer     2012-11-05   \n",
       "141   6877     2012-11-26           153.4   Colon Cancer     2012-11-12   \n",
       "142   6877     2012-11-26           153.4   Colon Cancer     2012-11-19   \n",
       "\n",
       "     Drug_Code  Date_Diff  \n",
       "93         201    47 days  \n",
       "94         201    40 days  \n",
       "95         201    33 days  \n",
       "96         201    26 days  \n",
       "97         201    19 days  \n",
       "98         201    12 days  \n",
       "99         201     5 days  \n",
       "140        201    21 days  \n",
       "141        201    14 days  \n",
       "142        201     7 days  "
      ]
     },
     "execution_count": 25,
     "metadata": {},
     "output_type": "execute_result"
    }
   ],
   "source": [
    "tbd = merged[merged[\"Date_Diff\"] > 0]  # Find all cases where treatment started before diagnosis\n",
    "tbd"
   ]
  },
  {
   "cell_type": "code",
   "execution_count": 26,
   "metadata": {
    "collapsed": false
   },
   "outputs": [
    {
     "name": "stdout",
     "output_type": "stream",
     "text": [
      "2\n"
     ]
    }
   ],
   "source": [
    "unique_patients = pd.Series(tbd.key_0.values).unique()\n",
    "print len(unique_patients)"
   ]
  },
  {
   "cell_type": "markdown",
   "metadata": {},
   "source": [
    "__Answer__: There are 2 patients (ID: 4374, 6877) that started treatment before being diagnosed."
   ]
  },
  {
   "cell_type": "markdown",
   "metadata": {},
   "source": [
    "__Question 3__: Is there a difference between Drug 201 and Drug 202 in terms of length of treatment?"
   ]
  },
  {
   "cell_type": "code",
   "execution_count": 60,
   "metadata": {
    "collapsed": true
   },
   "outputs": [],
   "source": [
    "merged[\"Abs_Days_Diff\"] = merged[\"Date_Diff\"].abs()  # Get the absolute value"
   ]
  },
  {
   "cell_type": "code",
   "execution_count": 61,
   "metadata": {
    "collapsed": false
   },
   "outputs": [
    {
     "data": {
      "text/html": [
       "<div style=\"max-height:1000px;max-width:1500px;overflow:auto;\">\n",
       "<table border=\"1\" class=\"dataframe\">\n",
       "  <thead>\n",
       "    <tr style=\"text-align: right;\">\n",
       "      <th></th>\n",
       "      <th>key_0</th>\n",
       "      <th>Diagnosis_Date</th>\n",
       "      <th>Diagnosis_Code</th>\n",
       "      <th>Diagnosis</th>\n",
       "      <th>Treatment_Date</th>\n",
       "      <th>Drug_Code</th>\n",
       "      <th>Date_Diff</th>\n",
       "      <th>Abs_Days</th>\n",
       "      <th>Abs_Days_Diff</th>\n",
       "    </tr>\n",
       "  </thead>\n",
       "  <tbody>\n",
       "    <tr>\n",
       "      <th>0</th>\n",
       "      <td> 2038</td>\n",
       "      <td>2010-01-21</td>\n",
       "      <td> 174.9</td>\n",
       "      <td> Breast Cancer</td>\n",
       "      <td>2010-02-14</td>\n",
       "      <td> 201</td>\n",
       "      <td>-24 days</td>\n",
       "      <td>24 days</td>\n",
       "      <td>24 days</td>\n",
       "    </tr>\n",
       "    <tr>\n",
       "      <th>1</th>\n",
       "      <td> 2038</td>\n",
       "      <td>2010-01-21</td>\n",
       "      <td> 174.9</td>\n",
       "      <td> Breast Cancer</td>\n",
       "      <td>2010-02-21</td>\n",
       "      <td> 201</td>\n",
       "      <td>-31 days</td>\n",
       "      <td>31 days</td>\n",
       "      <td>31 days</td>\n",
       "    </tr>\n",
       "    <tr>\n",
       "      <th>2</th>\n",
       "      <td> 2038</td>\n",
       "      <td>2010-01-21</td>\n",
       "      <td> 174.9</td>\n",
       "      <td> Breast Cancer</td>\n",
       "      <td>2010-02-28</td>\n",
       "      <td> 201</td>\n",
       "      <td>-38 days</td>\n",
       "      <td>38 days</td>\n",
       "      <td>38 days</td>\n",
       "    </tr>\n",
       "    <tr>\n",
       "      <th>3</th>\n",
       "      <td> 2038</td>\n",
       "      <td>2010-01-21</td>\n",
       "      <td> 174.9</td>\n",
       "      <td> Breast Cancer</td>\n",
       "      <td>2010-03-07</td>\n",
       "      <td> 201</td>\n",
       "      <td>-45 days</td>\n",
       "      <td>45 days</td>\n",
       "      <td>45 days</td>\n",
       "    </tr>\n",
       "    <tr>\n",
       "      <th>4</th>\n",
       "      <td> 2038</td>\n",
       "      <td>2010-01-21</td>\n",
       "      <td> 174.9</td>\n",
       "      <td> Breast Cancer</td>\n",
       "      <td>2010-03-14</td>\n",
       "      <td> 201</td>\n",
       "      <td>-52 days</td>\n",
       "      <td>52 days</td>\n",
       "      <td>52 days</td>\n",
       "    </tr>\n",
       "  </tbody>\n",
       "</table>\n",
       "</div>"
      ],
      "text/plain": [
       "   key_0 Diagnosis_Date  Diagnosis_Code      Diagnosis Treatment_Date  \\\n",
       "0   2038     2010-01-21           174.9  Breast Cancer     2010-02-14   \n",
       "1   2038     2010-01-21           174.9  Breast Cancer     2010-02-21   \n",
       "2   2038     2010-01-21           174.9  Breast Cancer     2010-02-28   \n",
       "3   2038     2010-01-21           174.9  Breast Cancer     2010-03-07   \n",
       "4   2038     2010-01-21           174.9  Breast Cancer     2010-03-14   \n",
       "\n",
       "   Drug_Code  Date_Diff  Abs_Days  Abs_Days_Diff  \n",
       "0        201   -24 days   24 days        24 days  \n",
       "1        201   -31 days   31 days        31 days  \n",
       "2        201   -38 days   38 days        38 days  \n",
       "3        201   -45 days   45 days        45 days  \n",
       "4        201   -52 days   52 days        52 days  "
      ]
     },
     "execution_count": 61,
     "metadata": {},
     "output_type": "execute_result"
    }
   ],
   "source": [
    "merged.head()"
   ]
  },
  {
   "cell_type": "code",
   "execution_count": 69,
   "metadata": {
    "collapsed": true
   },
   "outputs": [],
   "source": [
    "drug_group = merged.groupby([\"Drug_Code\"])"
   ]
  },
  {
   "cell_type": "code",
   "execution_count": 72,
   "metadata": {
    "collapsed": false
   },
   "outputs": [],
   "source": [
    "my_sum = drug_group.Abs_Days_Diff.aggregate(np.sum)"
   ]
  },
  {
   "cell_type": "code",
   "execution_count": 73,
   "metadata": {
    "collapsed": false
   },
   "outputs": [
    {
     "name": "stdout",
     "output_type": "stream",
     "text": [
      "Drug_Code\n",
      "201         10437 days\n",
      "202          1255 days\n",
      "Name: Abs_Days_Diff, dtype: timedelta64[ns]\n"
     ]
    }
   ],
   "source": [
    "print my_sum"
   ]
  },
  {
   "cell_type": "code",
   "execution_count": 65,
   "metadata": {
    "collapsed": true
   },
   "outputs": [],
   "source": [
    "drug_group = merged.groupby([\"Drug_Code\"])[\"key_0\"].apply(lambda x: len(x.unique()))"
   ]
  },
  {
   "cell_type": "code",
   "execution_count": 66,
   "metadata": {
    "collapsed": false
   },
   "outputs": [
    {
     "data": {
      "text/plain": [
       "Drug_Code\n",
       "201          14\n",
       "202          13\n",
       "Name: key_0, dtype: int64"
      ]
     },
     "execution_count": 66,
     "metadata": {},
     "output_type": "execute_result"
    }
   ],
   "source": [
    "drug_group"
   ]
  },
  {
   "cell_type": "markdown",
   "metadata": {},
   "source": [
    "__Answer__: Drug 201 is a lot longer in treatment\n",
    "*  Drug 201 is: 10437 days in treatment / 14 people = 745.5 days in treatment\n",
    "*  Drug 202 is: 1255 days in treatment / 13 people = 96.5 days in treatment"
   ]
  },
  {
   "cell_type": "code",
   "execution_count": 67,
   "metadata": {
    "collapsed": false
   },
   "outputs": [],
   "source": [
    "# TO DO: if additional time, plot to see"
   ]
  },
  {
   "cell_type": "code",
   "execution_count": null,
   "metadata": {
    "collapsed": true
   },
   "outputs": [],
   "source": []
  }
 ],
 "metadata": {
  "kernelspec": {
   "display_name": "Python 2",
   "language": "python",
   "name": "python2"
  },
  "language_info": {
   "codemirror_mode": {
    "name": "ipython",
    "version": 2
   },
   "file_extension": ".py",
   "mimetype": "text/x-python",
   "name": "python",
   "nbconvert_exporter": "python",
   "pygments_lexer": "ipython2",
   "version": "2.7.9"
  }
 },
 "nbformat": 4,
 "nbformat_minor": 0
}
